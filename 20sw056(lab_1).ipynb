{
  "nbformat": 4,
  "nbformat_minor": 0,
  "metadata": {
    "colab": {
      "provenance": []
    },
    "kernelspec": {
      "name": "python3",
      "display_name": "Python 3"
    },
    "language_info": {
      "name": "python"
    }
  },
  "cells": [
    {
      "cell_type": "code",
      "execution_count": null,
      "metadata": {
        "id": "UGp-zCb0z4QC"
      },
      "outputs": [],
      "source": []
    },
    {
      "cell_type": "markdown",
      "source": [
        "**task1**"
      ],
      "metadata": {
        "id": "-wpmiP1504qU"
      }
    },
    {
      "cell_type": "code",
      "source": [
        "variable1 = \"datascience\"\n",
        "variable2 = \"analytics\"\n",
        "\n",
        "print(\"The value of variable 1 is {} and the value of variable 2 is {}.\".format(variable1, variable2))"
      ],
      "metadata": {
        "colab": {
          "base_uri": "https://localhost:8080/"
        },
        "id": "XNlLDgVb067z",
        "outputId": "9fa70ee7-6334-4043-bc18-f919ed3e274b"
      },
      "execution_count": 1,
      "outputs": [
        {
          "output_type": "stream",
          "name": "stdout",
          "text": [
            "The value of variable 1 is datascience and the value of variable 2 is analytics.\n"
          ]
        }
      ]
    },
    {
      "cell_type": "markdown",
      "source": [
        "**task2**"
      ],
      "metadata": {
        "id": "167cetT41C1H"
      }
    },
    {
      "cell_type": "code",
      "source": [
        "string = \"python\"\n",
        "capitalized_string = string.capitalize()\n",
        "print(capitalized_string)\n",
        "\n",
        "string = \"python tasks\"\n",
        "count = string.count(\"t\")\n",
        "print(count)\n",
        "\n",
        "string = \"happy day \"\n",
        "replaced_string = string.replace(\"sad\", \"day\")\n",
        "print(replaced_string)\n",
        "\n"
      ],
      "metadata": {
        "colab": {
          "base_uri": "https://localhost:8080/"
        },
        "id": "Gh-NkbqP1ESa",
        "outputId": "abe963aa-6f9e-411d-f87d-cfee12785ee1"
      },
      "execution_count": 4,
      "outputs": [
        {
          "output_type": "stream",
          "name": "stdout",
          "text": [
            "Python\n",
            "2\n",
            "happy day \n"
          ]
        }
      ]
    },
    {
      "cell_type": "markdown",
      "source": [
        "**task3**"
      ],
      "metadata": {
        "id": "T9MM2B_Y1kvj"
      }
    },
    {
      "cell_type": "code",
      "source": [
        "month = 7  # august (0-based index)\n",
        "num_days_in_month = [31, 28, 31, 30, 31, 30, 31, 31, 30, 31, 30, 31]\n",
        "num_days = num_days_in_month[month-1]  # Subtract 1 to account for zero-based indexing\n",
        "print(num_days)"
      ],
      "metadata": {
        "colab": {
          "base_uri": "https://localhost:8080/"
        },
        "id": "sWiAETgL1mKm",
        "outputId": "0ee56509-f1e5-4c3f-8637-d0c65e937ce6"
      },
      "execution_count": null,
      "outputs": [
        {
          "output_type": "stream",
          "name": "stdout",
          "text": [
            "31\n"
          ]
        }
      ]
    },
    {
      "cell_type": "markdown",
      "source": [
        "task4"
      ],
      "metadata": {
        "id": "HoX5VaSy1urp"
      }
    },
    {
      "cell_type": "code",
      "source": [
        "eclipse_dates = ['June 21, 2001', 'December 4, 2002', 'November 23, 2003', 'March 29, 2006', 'August 1, 2008', 'July 22, 2009', 'July 11, 2010', 'November 13, 2012', 'March 20, 2015', 'March 9, 2016']\n",
        "\n",
        "recent_dates = eclipse_dates[-3:]\n",
        "print(recent_dates)"
      ],
      "metadata": {
        "colab": {
          "base_uri": "https://localhost:8080/"
        },
        "id": "cGuUuyTk1vxK",
        "outputId": "de5b5e09-6372-4cd7-d05f-b9b39a183bf5"
      },
      "execution_count": null,
      "outputs": [
        {
          "output_type": "stream",
          "name": "stdout",
          "text": [
            "['November 13, 2012', 'March 20, 2015', 'March 9, 2016']\n"
          ]
        }
      ]
    },
    {
      "cell_type": "markdown",
      "source": [
        "**task5**"
      ],
      "metadata": {
        "id": "qy5A52Ye1130"
      }
    },
    {
      "cell_type": "code",
      "source": [
        "students = {\n",
        "    \"student1\": {\n",
        "        \"name\": \"kubra\",\n",
        "        \"age\": 20,\n",
        "        \"grade\": \"3rd year\",\n",
        "        \"subjects\": [\"DS\", \"MAD\", \"SAD\"]\n",
        "    },\n",
        "    \"student2\": {\n",
        "        \"name\": \"eba\",\n",
        "        \"age\": 21,\n",
        "        \"grade\": \"11th\",\n",
        "        \"subjects\": [\"History\", \"Geography\", \"French\"]\n",
        "    },\n",
        "    \"student3\": {\n",
        "        \"name\": \"pinto\",\n",
        "        \"age\": 20,\n",
        "        \"grade\": \"10th\",\n",
        "        \"subjects\": [\"Art\", \"Music\", \"Physical Education\"]\n",
        "    }\n",
        "}\n",
        "student1_name = students[\"student1\"][\"name\"]\n",
        "print(student1_name)\n",
        "\n",
        "# Accessing student2's subjects\n",
        "student2_subjects = students[\"student2\"][\"subjects\"]\n",
        "print(student2_subjects)"
      ],
      "metadata": {
        "colab": {
          "base_uri": "https://localhost:8080/"
        },
        "id": "6Q6d25Vo13RM",
        "outputId": "161414da-52d9-431c-bdce-c76f5dfc07a5"
      },
      "execution_count": null,
      "outputs": [
        {
          "output_type": "stream",
          "name": "stdout",
          "text": [
            "kubra\n",
            "['History', 'Geography', 'French']\n"
          ]
        }
      ]
    }
  ]
}