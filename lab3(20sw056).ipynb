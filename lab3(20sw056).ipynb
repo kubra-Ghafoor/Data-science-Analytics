{
  "nbformat": 4,
  "nbformat_minor": 0,
  "metadata": {
    "colab": {
      "provenance": [],
      "authorship_tag": "ABX9TyORLFUT/iV7QCu0SUei91h/",
      "include_colab_link": true
    },
    "kernelspec": {
      "name": "python3",
      "display_name": "Python 3"
    },
    "language_info": {
      "name": "python"
    }
  },
  "cells": [
    {
      "cell_type": "markdown",
      "metadata": {
        "id": "view-in-github",
        "colab_type": "text"
      },
      "source": [
        "<a href=\"https://colab.research.google.com/github/kubra-Ghafoor/DataScience-Analytics/blob/main/lab3(20sw056).ipynb\" target=\"_parent\"><img src=\"https://colab.research.google.com/assets/colab-badge.svg\" alt=\"Open In Colab\"/></a>"
      ]
    },
    {
      "cell_type": "code",
      "execution_count": 1,
      "metadata": {
        "colab": {
          "base_uri": "https://localhost:8080/"
        },
        "id": "FzwAdWfVILzu",
        "outputId": "6afea7ee-3d00-4a3b-fc33-70a9c0082754"
      },
      "outputs": [
        {
          "output_type": "stream",
          "name": "stdout",
          "text": [
            "expected result: 10, actual result: 10.0\n",
            "expected result: 7123.6902801, actual result: 7123.690280065897\n"
          ]
        }
      ],
      "source": [
        "#TASK NO :01\n",
        "def population_density(population, land_area):\n",
        "    return population / land_area\n",
        "\n",
        "\n",
        "# test cases for your function\n",
        "test1 = population_density(10, 1)\n",
        "expected_result1 = 10\n",
        "print(\"expected result: {}, actual result: {}\".format(expected_result1, test1))\n",
        "\n",
        "test2 = population_density(864816, 121.4)\n",
        "expected_result2 = 7123.6902801\n",
        "print(\"expected result: {}, actual result: {}\".format(expected_result2, test2))"
      ]
    },
    {
      "cell_type": "code",
      "source": [
        "#TASK NO :02\n",
        "def readable_timedelta(days):\n",
        "    weeks = days // 7\n",
        "    remaining_days = days % 7\n",
        "    return \"{} week(s) and {} day(s)\".format(weeks, remaining_days)\n",
        "print(readable_timedelta(10))"
      ],
      "metadata": {
        "colab": {
          "base_uri": "https://localhost:8080/"
        },
        "id": "jxF6xUI4Imaq",
        "outputId": "fb575a81-8467-4461-dc02-5b629fdf731b"
      },
      "execution_count": 2,
      "outputs": [
        {
          "output_type": "stream",
          "name": "stdout",
          "text": [
            "1 week(s) and 3 day(s)\n"
          ]
        }
      ]
    },
    {
      "cell_type": "code",
      "source": [
        "#TASK NO :03\n",
        "numbers = [[34, 63, 88, 71, 29], [90, 78, 51, 27, 45], [63, 37, 85, 46, 22], [51, 22, 34, 11, 18]]\n",
        "\n",
        "averages = list(map(lambda num_list: sum(num_list) / len(num_list), numbers))\n",
        "print(averages)"
      ],
      "metadata": {
        "colab": {
          "base_uri": "https://localhost:8080/"
        },
        "id": "LKiuyvySIrDb",
        "outputId": "ce80edd9-6bee-45c4-b1ac-9f5a4c75f8a2"
      },
      "execution_count": 3,
      "outputs": [
        {
          "output_type": "stream",
          "name": "stdout",
          "text": [
            "[57.0, 58.2, 50.6, 27.2]\n"
          ]
        }
      ]
    },
    {
      "cell_type": "code",
      "source": [
        "#TASK NO :04\n",
        "cities = [\"New York City\", \"Los Angeles\", \"Chicago\", \"Mountain View\", \"Denver\", \"Boston\"]\n",
        "\n",
        "short_cities = list(filter(lambda name: len(name) < 10, cities))\n",
        "print(short_cities)"
      ],
      "metadata": {
        "colab": {
          "base_uri": "https://localhost:8080/"
        },
        "id": "hQCgYj_CIumC",
        "outputId": "f2d4da0e-ac0d-4f5e-a41c-751eaaf79e40"
      },
      "execution_count": 4,
      "outputs": [
        {
          "output_type": "stream",
          "name": "stdout",
          "text": [
            "['Chicago', 'Denver', 'Boston']\n"
          ]
        }
      ]
    },
    {
      "cell_type": "code",
      "source": [
        "#TASK NO :05\n",
        "# Get and process input for a list of names\n",
        "names_input = input(\"Enter a list of names separated by commas: \")\n",
        "names = names_input.split(',')\n",
        "\n",
        "# Get and process input for a list of the number of assignments\n",
        "assignments_input = input(\"Enter a list of the number of missing assignments separated by commas: \")\n",
        "assignments = list(map(int, assignments_input.split(',')))\n",
        "\n",
        "# Get and process input for a list of grades\n",
        "grades_input = input(\"Enter a list of grades separated by commas: \")\n",
        "grades = list(map(float, grades_input.split(',')))\n",
        "\n",
        "# Message string to be used for each student\n",
        "# HINT: use .format() with this string in your for loop\n",
        "message = \"Hi {},\\n\\nThis is a reminder that you have {} assignments left to submit before you can graduate. Your current grade is {} and can increase to {} if you submit all assignments before the due date.\\n\\n\"\n",
        "\n",
        "# Write a for loop that iterates through each set of names, assignments, and grades to print each student's message\n",
        "for name, assignment_count, grade in zip(names, assignments, grades):\n",
        "    potential_grade = grade + 2 * assignment_count\n",
        "    print(message.format(name, assignment_count, grade, potential_grade))\n"
      ],
      "metadata": {
        "colab": {
          "base_uri": "https://localhost:8080/"
        },
        "id": "wCTCUOOaIxgj",
        "outputId": "702eee44-9fa2-4f35-9661-0aed8898a441"
      },
      "execution_count": 5,
      "outputs": [
        {
          "output_type": "stream",
          "name": "stdout",
          "text": [
            "Enter a list of names separated by commas: kubra,farheen,areeba\n",
            "Enter a list of the number of missing assignments separated by commas: 2,4,5\n",
            "Enter a list of grades separated by commas: 56,88,99\n",
            "Hi kubra,\n",
            "\n",
            "This is a reminder that you have 2 assignments left to submit before you can graduate. Your current grade is 56.0 and can increase to 60.0 if you submit all assignments before the due date.\n",
            "\n",
            "\n",
            "Hi farheen,\n",
            "\n",
            "This is a reminder that you have 4 assignments left to submit before you can graduate. Your current grade is 88.0 and can increase to 96.0 if you submit all assignments before the due date.\n",
            "\n",
            "\n",
            "Hi areeba,\n",
            "\n",
            "This is a reminder that you have 5 assignments left to submit before you can graduate. Your current grade is 99.0 and can increase to 109.0 if you submit all assignments before the due date.\n",
            "\n",
            "\n"
          ]
        }
      ]
    },
    {
      "cell_type": "code",
      "source": [
        "#TASK NO :06\n",
        "f = open('camelot.txt', 'w')\n",
        "f.write(\"We're the knights of the round tableWe dance whenever we're able\")\n",
        "f.close()\n",
        "\n",
        "with open(\"camelot.txt\") as song:\n",
        "  print(song.read(2))\n",
        "  print(song.read(8))\n",
        "  print(song.read())\n",
        "\n",
        "  camelot_lines = []\n",
        "  with open(\"camelot.txt\") as f:\n",
        "   for line in f:\n",
        "          camelot_lines.append(line.strip())\n",
        "   print(camelot_lines)\n",
        ""
      ],
      "metadata": {
        "colab": {
          "base_uri": "https://localhost:8080/"
        },
        "id": "DNL2VBywJLD3",
        "outputId": "9273c83d-3f0b-4261-b9eb-79e914a17e68"
      },
      "execution_count": 6,
      "outputs": [
        {
          "output_type": "stream",
          "name": "stdout",
          "text": [
            "We\n",
            "'re the \n",
            "knights of the round tableWe dance whenever we're able\n",
            "[\"We're the knights of the round tableWe dance whenever we're able\"]\n"
          ]
        }
      ]
    }
  ]
}